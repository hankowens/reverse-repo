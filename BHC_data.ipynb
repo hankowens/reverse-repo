{
 "cells": [
  {
   "cell_type": "code",
   "execution_count": 124,
   "metadata": {},
   "outputs": [
    {
     "data": {
      "text/html": [
       "<div>\n",
       "<style scoped>\n",
       "    .dataframe tbody tr th:only-of-type {\n",
       "        vertical-align: middle;\n",
       "    }\n",
       "\n",
       "    .dataframe tbody tr th {\n",
       "        vertical-align: top;\n",
       "    }\n",
       "\n",
       "    .dataframe thead th {\n",
       "        text-align: right;\n",
       "    }\n",
       "</style>\n",
       "<table border=\"1\" class=\"dataframe\">\n",
       "  <thead>\n",
       "    <tr style=\"text-align: right;\">\n",
       "      <th></th>\n",
       "      <th>RSSD9001</th>\n",
       "      <th>RSSD9045</th>\n",
       "      <th>BHCT2170</th>\n",
       "      <th>BHDM3545</th>\n",
       "      <th>BHDM3548</th>\n",
       "      <th>RSSD9016</th>\n",
       "      <th>RSSD9017</th>\n",
       "    </tr>\n",
       "  </thead>\n",
       "  <tbody>\n",
       "    <tr>\n",
       "      <th>0</th>\n",
       "      <td>NaN</td>\n",
       "      <td>NaN</td>\n",
       "      <td>NaN</td>\n",
       "      <td>NaN</td>\n",
       "      <td>NaN</td>\n",
       "      <td>NaN</td>\n",
       "      <td>NaN</td>\n",
       "    </tr>\n",
       "    <tr>\n",
       "      <th>1</th>\n",
       "      <td>1020180.0</td>\n",
       "      <td>1.0</td>\n",
       "      <td>11994235.0</td>\n",
       "      <td>6716.0</td>\n",
       "      <td>16811.0</td>\n",
       "      <td>0.0</td>\n",
       "      <td>BREMER FINANCIAL CORPORATION</td>\n",
       "    </tr>\n",
       "    <tr>\n",
       "      <th>2</th>\n",
       "      <td>1020201.0</td>\n",
       "      <td>1.0</td>\n",
       "      <td>NaN</td>\n",
       "      <td>NaN</td>\n",
       "      <td>NaN</td>\n",
       "      <td>1.0</td>\n",
       "      <td>HSBC USA INC.</td>\n",
       "    </tr>\n",
       "    <tr>\n",
       "      <th>3</th>\n",
       "      <td>1020395.0</td>\n",
       "      <td>1.0</td>\n",
       "      <td>NaN</td>\n",
       "      <td>NaN</td>\n",
       "      <td>NaN</td>\n",
       "      <td>0.0</td>\n",
       "      <td>SOUTHERN NATIONAL CORPORATION</td>\n",
       "    </tr>\n",
       "    <tr>\n",
       "      <th>4</th>\n",
       "      <td>1020582.0</td>\n",
       "      <td>1.0</td>\n",
       "      <td>NaN</td>\n",
       "      <td>NaN</td>\n",
       "      <td>NaN</td>\n",
       "      <td>0.0</td>\n",
       "      <td>WOODTRUST FINANCIAL CORP</td>\n",
       "    </tr>\n",
       "  </tbody>\n",
       "</table>\n",
       "</div>"
      ],
      "text/plain": [
       "    RSSD9001  RSSD9045    BHCT2170  BHDM3545  BHDM3548  RSSD9016  \\\n",
       "0        NaN       NaN         NaN       NaN       NaN       NaN   \n",
       "1  1020180.0       1.0  11994235.0    6716.0   16811.0       0.0   \n",
       "2  1020201.0       1.0         NaN       NaN       NaN       1.0   \n",
       "3  1020395.0       1.0         NaN       NaN       NaN       0.0   \n",
       "4  1020582.0       1.0         NaN       NaN       NaN       0.0   \n",
       "\n",
       "                        RSSD9017  \n",
       "0                            NaN  \n",
       "1   BREMER FINANCIAL CORPORATION  \n",
       "2                  HSBC USA INC.  \n",
       "3  SOUTHERN NATIONAL CORPORATION  \n",
       "4       WOODTRUST FINANCIAL CORP  "
      ]
     },
     "execution_count": 124,
     "metadata": {},
     "output_type": "execute_result"
    }
   ],
   "source": [
    "%matplotlib inline \n",
    "\n",
    "import pandas as pd\n",
    "import numpy as np\n",
    "import matplotlib\n",
    "import matplotlib.pyplot as plt\n",
    "dfbhc = pd.read_csv('~/Documents/R projects/bhcf1712.txt', sep=\"^\", \n",
    "                    usecols=['RSSD9001', 'RSSD9017', 'RSSD9016', 'RSSD9045', 'BHCT2170', 'BHDM3545', 'BHDM3548'],\n",
    "                    na_values=\"--------\",\n",
    "#                    dtype={'RSSD9001': np.int32, 'RSSD9017': np.str, 'RSSD9045': np.int32, 'BHCT2170': np.int32, \n",
    "#                           'BHDM3545': np.int32, 'BHDM3548': np.int32}, \n",
    "                    low_memory=False)\n",
    "dfbhc.head()"
   ]
  },
  {
   "cell_type": "code",
   "execution_count": 136,
   "metadata": {},
   "outputs": [
    {
     "data": {
      "text/html": [
       "<div>\n",
       "<style scoped>\n",
       "    .dataframe tbody tr th:only-of-type {\n",
       "        vertical-align: middle;\n",
       "    }\n",
       "\n",
       "    .dataframe tbody tr th {\n",
       "        vertical-align: top;\n",
       "    }\n",
       "\n",
       "    .dataframe thead th {\n",
       "        text-align: right;\n",
       "    }\n",
       "</style>\n",
       "<table border=\"1\" class=\"dataframe\">\n",
       "  <thead>\n",
       "    <tr style=\"text-align: right;\">\n",
       "      <th></th>\n",
       "      <th>RSSD9001</th>\n",
       "      <th>RSSD9017</th>\n",
       "      <th>RSSD9016</th>\n",
       "      <th>RSSD9045</th>\n",
       "      <th>BHCT2170</th>\n",
       "      <th>BHDM3545</th>\n",
       "      <th>BHDM3548</th>\n",
       "    </tr>\n",
       "  </thead>\n",
       "  <tbody>\n",
       "    <tr>\n",
       "      <th>1</th>\n",
       "      <td>1020180.0</td>\n",
       "      <td>BREMER FINANCIAL CORPORATION</td>\n",
       "      <td>0.0</td>\n",
       "      <td>1.0</td>\n",
       "      <td>11994235.0</td>\n",
       "      <td>6716.0</td>\n",
       "      <td>16811.0</td>\n",
       "    </tr>\n",
       "    <tr>\n",
       "      <th>2</th>\n",
       "      <td>1020201.0</td>\n",
       "      <td>HSBC USA INC.</td>\n",
       "      <td>1.0</td>\n",
       "      <td>1.0</td>\n",
       "      <td>NaN</td>\n",
       "      <td>NaN</td>\n",
       "      <td>NaN</td>\n",
       "    </tr>\n",
       "    <tr>\n",
       "      <th>3</th>\n",
       "      <td>1020395.0</td>\n",
       "      <td>SOUTHERN NATIONAL CORPORATION</td>\n",
       "      <td>0.0</td>\n",
       "      <td>1.0</td>\n",
       "      <td>NaN</td>\n",
       "      <td>NaN</td>\n",
       "      <td>NaN</td>\n",
       "    </tr>\n",
       "    <tr>\n",
       "      <th>4</th>\n",
       "      <td>1020582.0</td>\n",
       "      <td>WOODTRUST FINANCIAL CORP</td>\n",
       "      <td>0.0</td>\n",
       "      <td>1.0</td>\n",
       "      <td>NaN</td>\n",
       "      <td>NaN</td>\n",
       "      <td>NaN</td>\n",
       "    </tr>\n",
       "    <tr>\n",
       "      <th>5</th>\n",
       "      <td>1020591.0</td>\n",
       "      <td>PINNACLE BANCORP, INC.</td>\n",
       "      <td>0.0</td>\n",
       "      <td>1.0</td>\n",
       "      <td>NaN</td>\n",
       "      <td>NaN</td>\n",
       "      <td>NaN</td>\n",
       "    </tr>\n",
       "  </tbody>\n",
       "</table>\n",
       "</div>"
      ],
      "text/plain": [
       "    RSSD9001                       RSSD9017  RSSD9016  RSSD9045    BHCT2170  \\\n",
       "1  1020180.0   BREMER FINANCIAL CORPORATION       0.0       1.0  11994235.0   \n",
       "2  1020201.0                  HSBC USA INC.       1.0       1.0         NaN   \n",
       "3  1020395.0  SOUTHERN NATIONAL CORPORATION       0.0       1.0         NaN   \n",
       "4  1020582.0       WOODTRUST FINANCIAL CORP       0.0       1.0         NaN   \n",
       "5  1020591.0         PINNACLE BANCORP, INC.       0.0       1.0         NaN   \n",
       "\n",
       "   BHDM3545  BHDM3548  \n",
       "1    6716.0   16811.0  \n",
       "2       NaN       NaN  \n",
       "3       NaN       NaN  \n",
       "4       NaN       NaN  \n",
       "5       NaN       NaN  "
      ]
     },
     "execution_count": 136,
     "metadata": {},
     "output_type": "execute_result"
    }
   ],
   "source": [
    "dfsmall = dfbhc.loc[1:, ['RSSD9001', 'RSSD9017', 'RSSD9016','RSSD9045', 'BHCT2170', 'BHDM3545', 'BHDM3548']]\n",
    "dfsmall.head()"
   ]
  },
  {
   "cell_type": "code",
   "execution_count": 137,
   "metadata": {},
   "outputs": [],
   "source": [
    "#rename columns\n",
    "dfsmall = dfsmall.rename(index=str, columns={\"RSSD9001\": \"rssd_id\", \"RSSD9017\": \"legal_name\", \"RSSD9045\":\"bhc_indicator\", \n",
    "                                             \"RSSD9016\": \"fhc_idicator\", \"BHCT2170\":\"total_assets\",\"BHDM3545\":\"trading_assets\", \n",
    "                                             \"BHDM3548\": \"trading_liab\"}\n",
    "              )\n"
   ]
  },
  {
   "cell_type": "code",
   "execution_count": 138,
   "metadata": {},
   "outputs": [
    {
     "name": "stdout",
     "output_type": "stream",
     "text": [
      "<class 'pandas.core.frame.DataFrame'>\n",
      "Index: 4596 entries, 1 to 4596\n",
      "Data columns (total 7 columns):\n",
      "rssd_id           4596 non-null float64\n",
      "legal_name        4596 non-null object\n",
      "fhc_idicator      4596 non-null float64\n",
      "bhc_indicator     4596 non-null float64\n",
      "total_assets      636 non-null float64\n",
      "trading_assets    155 non-null float64\n",
      "trading_liab      155 non-null float64\n",
      "dtypes: float64(6), object(1)\n",
      "memory usage: 287.2+ KB\n"
     ]
    }
   ],
   "source": [
    "#Now i need to add up the aggregated trading after i convert some data types.\n",
    "dfsmall.info()"
   ]
  },
  {
   "cell_type": "code",
   "execution_count": 64,
   "metadata": {},
   "outputs": [],
   "source": [
    "#this is not necessary using the na_values=... statement in the read_csv! \n",
    "#cols = ['RSSD ID', 'FHC IDICATOR', 'BHC INDICATOR', 'TOTAL ASSETS', 'TRADING ASSETS', 'TRADING LIABILITIES']\n",
    "\n",
    "#dfsmall[cols] = dfsmall[cols].apply(pd.to_numeric, errors='coerce', axis=1)"
   ]
  },
  {
   "cell_type": "code",
   "execution_count": 139,
   "metadata": {},
   "outputs": [
    {
     "data": {
      "text/html": [
       "<div>\n",
       "<style scoped>\n",
       "    .dataframe tbody tr th:only-of-type {\n",
       "        vertical-align: middle;\n",
       "    }\n",
       "\n",
       "    .dataframe tbody tr th {\n",
       "        vertical-align: top;\n",
       "    }\n",
       "\n",
       "    .dataframe thead th {\n",
       "        text-align: right;\n",
       "    }\n",
       "</style>\n",
       "<table border=\"1\" class=\"dataframe\">\n",
       "  <thead>\n",
       "    <tr style=\"text-align: right;\">\n",
       "      <th></th>\n",
       "      <th>rssd_id</th>\n",
       "      <th>legal_name</th>\n",
       "      <th>fhc_idicator</th>\n",
       "      <th>bhc_indicator</th>\n",
       "      <th>total_assets</th>\n",
       "      <th>trading_assets</th>\n",
       "      <th>trading_liab</th>\n",
       "      <th>aggr_trading</th>\n",
       "    </tr>\n",
       "  </thead>\n",
       "  <tbody>\n",
       "    <tr>\n",
       "      <th>1</th>\n",
       "      <td>1020180.0</td>\n",
       "      <td>BREMER FINANCIAL CORPORATION</td>\n",
       "      <td>0.0</td>\n",
       "      <td>1.0</td>\n",
       "      <td>11994235.0</td>\n",
       "      <td>6716.0</td>\n",
       "      <td>16811.0</td>\n",
       "      <td>23527.0</td>\n",
       "    </tr>\n",
       "    <tr>\n",
       "      <th>2</th>\n",
       "      <td>1020201.0</td>\n",
       "      <td>HSBC USA INC.</td>\n",
       "      <td>1.0</td>\n",
       "      <td>1.0</td>\n",
       "      <td>NaN</td>\n",
       "      <td>NaN</td>\n",
       "      <td>NaN</td>\n",
       "      <td>NaN</td>\n",
       "    </tr>\n",
       "    <tr>\n",
       "      <th>3</th>\n",
       "      <td>1020395.0</td>\n",
       "      <td>SOUTHERN NATIONAL CORPORATION</td>\n",
       "      <td>0.0</td>\n",
       "      <td>1.0</td>\n",
       "      <td>NaN</td>\n",
       "      <td>NaN</td>\n",
       "      <td>NaN</td>\n",
       "      <td>NaN</td>\n",
       "    </tr>\n",
       "    <tr>\n",
       "      <th>4</th>\n",
       "      <td>1020582.0</td>\n",
       "      <td>WOODTRUST FINANCIAL CORP</td>\n",
       "      <td>0.0</td>\n",
       "      <td>1.0</td>\n",
       "      <td>NaN</td>\n",
       "      <td>NaN</td>\n",
       "      <td>NaN</td>\n",
       "      <td>NaN</td>\n",
       "    </tr>\n",
       "    <tr>\n",
       "      <th>5</th>\n",
       "      <td>1020591.0</td>\n",
       "      <td>PINNACLE BANCORP, INC.</td>\n",
       "      <td>0.0</td>\n",
       "      <td>1.0</td>\n",
       "      <td>NaN</td>\n",
       "      <td>NaN</td>\n",
       "      <td>NaN</td>\n",
       "      <td>NaN</td>\n",
       "    </tr>\n",
       "  </tbody>\n",
       "</table>\n",
       "</div>"
      ],
      "text/plain": [
       "     rssd_id                     legal_name  fhc_idicator  bhc_indicator  \\\n",
       "1  1020180.0   BREMER FINANCIAL CORPORATION           0.0            1.0   \n",
       "2  1020201.0                  HSBC USA INC.           1.0            1.0   \n",
       "3  1020395.0  SOUTHERN NATIONAL CORPORATION           0.0            1.0   \n",
       "4  1020582.0       WOODTRUST FINANCIAL CORP           0.0            1.0   \n",
       "5  1020591.0         PINNACLE BANCORP, INC.           0.0            1.0   \n",
       "\n",
       "   total_assets  trading_assets  trading_liab  aggr_trading  \n",
       "1    11994235.0          6716.0       16811.0       23527.0  \n",
       "2           NaN             NaN           NaN           NaN  \n",
       "3           NaN             NaN           NaN           NaN  \n",
       "4           NaN             NaN           NaN           NaN  \n",
       "5           NaN             NaN           NaN           NaN  "
      ]
     },
     "execution_count": 139,
     "metadata": {},
     "output_type": "execute_result"
    }
   ],
   "source": [
    "dfsmall['aggr_trading'] = dfsmall['trading_assets'] + dfsmall['trading_liab']\n",
    "dfsmall.head()"
   ]
  },
  {
   "cell_type": "code",
   "execution_count": 127,
   "metadata": {},
   "outputs": [
    {
     "data": {
      "text/plain": [
       "rssd_id           32\n",
       "LEGAL_NAME        32\n",
       "fhc_idicator      32\n",
       "bhc_indicator     32\n",
       "total_assets      31\n",
       "trading_assets    32\n",
       "trading_liab      32\n",
       "aggr_trading      32\n",
       "dtype: int64"
      ]
     },
     "execution_count": 127,
     "metadata": {},
     "output_type": "execute_result"
    }
   ],
   "source": [
    "dfsmall.query('aggr_trading >1000000').count()"
   ]
  },
  {
   "cell_type": "code",
   "execution_count": 155,
   "metadata": {},
   "outputs": [
    {
     "data": {
      "text/html": [
       "<div>\n",
       "<style scoped>\n",
       "    .dataframe tbody tr th:only-of-type {\n",
       "        vertical-align: middle;\n",
       "    }\n",
       "\n",
       "    .dataframe tbody tr th {\n",
       "        vertical-align: top;\n",
       "    }\n",
       "\n",
       "    .dataframe thead th {\n",
       "        text-align: right;\n",
       "    }\n",
       "</style>\n",
       "<table border=\"1\" class=\"dataframe\">\n",
       "  <thead>\n",
       "    <tr style=\"text-align: right;\">\n",
       "      <th></th>\n",
       "      <th>rssd_id</th>\n",
       "      <th>legal_name</th>\n",
       "      <th>fhc_idicator</th>\n",
       "      <th>bhc_indicator</th>\n",
       "      <th>total_assets</th>\n",
       "      <th>trading_assets</th>\n",
       "      <th>trading_liab</th>\n",
       "      <th>aggr_trading</th>\n",
       "    </tr>\n",
       "  </thead>\n",
       "  <tbody>\n",
       "    <tr>\n",
       "      <th>431</th>\n",
       "      <td>1073757.0</td>\n",
       "      <td>BANK OF AMERICA CORPORATION</td>\n",
       "      <td>1.0</td>\n",
       "      <td>1.0</td>\n",
       "      <td>2.281477e+09</td>\n",
       "      <td>159391000.0</td>\n",
       "      <td>56865000.0</td>\n",
       "      <td>216256000.0</td>\n",
       "    </tr>\n",
       "    <tr>\n",
       "      <th>47</th>\n",
       "      <td>1039502.0</td>\n",
       "      <td>JPMORGAN CHASE &amp; CO.</td>\n",
       "      <td>1.0</td>\n",
       "      <td>1.0</td>\n",
       "      <td>2.533600e+09</td>\n",
       "      <td>177380000.0</td>\n",
       "      <td>38311000.0</td>\n",
       "      <td>215691000.0</td>\n",
       "    </tr>\n",
       "    <tr>\n",
       "      <th>2593</th>\n",
       "      <td>2380443.0</td>\n",
       "      <td>GOLDMAN SACHS GROUP, INC., THE</td>\n",
       "      <td>1.0</td>\n",
       "      <td>1.0</td>\n",
       "      <td>9.167870e+08</td>\n",
       "      <td>153123000.0</td>\n",
       "      <td>46350000.0</td>\n",
       "      <td>199473000.0</td>\n",
       "    </tr>\n",
       "    <tr>\n",
       "      <th>2366</th>\n",
       "      <td>2162966.0</td>\n",
       "      <td>MORGAN STANLEY</td>\n",
       "      <td>1.0</td>\n",
       "      <td>1.0</td>\n",
       "      <td>8.517330e+08</td>\n",
       "      <td>146610000.0</td>\n",
       "      <td>50678000.0</td>\n",
       "      <td>197288000.0</td>\n",
       "    </tr>\n",
       "    <tr>\n",
       "      <th>2205</th>\n",
       "      <td>1951350.0</td>\n",
       "      <td>CITIGROUP INC.</td>\n",
       "      <td>1.0</td>\n",
       "      <td>1.0</td>\n",
       "      <td>1.842465e+09</td>\n",
       "      <td>108036000.0</td>\n",
       "      <td>46472000.0</td>\n",
       "      <td>154508000.0</td>\n",
       "    </tr>\n",
       "  </tbody>\n",
       "</table>\n",
       "</div>"
      ],
      "text/plain": [
       "        rssd_id                      legal_name  fhc_idicator  bhc_indicator  \\\n",
       "431   1073757.0     BANK OF AMERICA CORPORATION           1.0            1.0   \n",
       "47    1039502.0            JPMORGAN CHASE & CO.           1.0            1.0   \n",
       "2593  2380443.0  GOLDMAN SACHS GROUP, INC., THE           1.0            1.0   \n",
       "2366  2162966.0                  MORGAN STANLEY           1.0            1.0   \n",
       "2205  1951350.0                  CITIGROUP INC.           1.0            1.0   \n",
       "\n",
       "      total_assets  trading_assets  trading_liab  aggr_trading  \n",
       "431   2.281477e+09     159391000.0    56865000.0   216256000.0  \n",
       "47    2.533600e+09     177380000.0    38311000.0   215691000.0  \n",
       "2593  9.167870e+08     153123000.0    46350000.0   199473000.0  \n",
       "2366  8.517330e+08     146610000.0    50678000.0   197288000.0  \n",
       "2205  1.842465e+09     108036000.0    46472000.0   154508000.0  "
      ]
     },
     "execution_count": 155,
     "metadata": {},
     "output_type": "execute_result"
    }
   ],
   "source": [
    "dftrading = dfsmall.query('aggr_trading > 0').sort_values('aggr_trading', ascending=False)\n",
    "dftrading.head()"
   ]
  },
  {
   "cell_type": "code",
   "execution_count": 156,
   "metadata": {},
   "outputs": [],
   "source": [
    "dftrading.to_csv('trading_banks_1712.csv', index=False)"
   ]
  },
  {
   "cell_type": "code",
   "execution_count": 149,
   "metadata": {},
   "outputs": [
    {
     "data": {
      "image/png": "[encoded data removed]",
      "text/plain": [
       "<matplotlib.figure.Figure at 0x234a6e768d0>"
      ]
     },
     "metadata": {},
     "output_type": "display_data"
    }
   ],
   "source": [
    "dftrading.plot(y='aggr_trading', kind='hist')\n",
    "plt.title('Distribution of Trading')\n",
    "plt.xlabel('Hundreds of Billions of Dollars in Aggregate Trading')\n",
    "plt.ylabel('Number of Institutions');"
   ]
  },
  {
   "cell_type": "code",
   "execution_count": 153,
   "metadata": {},
   "outputs": [
    {
     "data": {
      "text/plain": [
       "rssd_id           104\n",
       "legal_name        104\n",
       "fhc_idicator      104\n",
       "bhc_indicator     104\n",
       "total_assets      104\n",
       "trading_assets    104\n",
       "trading_liab      104\n",
       "aggr_trading      104\n",
       "dtype: int64"
      ]
     },
     "execution_count": 153,
     "metadata": {},
     "output_type": "execute_result"
    }
   ],
   "source": [
    "dftradingb = dftrading.query('aggr_trading < 1000000')\n",
    "dftradingb.count()"
   ]
  },
  {
   "cell_type": "code",
   "execution_count": 154,
   "metadata": {},
   "outputs": [
    {
     "data": {
      "image/png": "[encoded data removed]",
      "text/plain": [
       "<matplotlib.figure.Figure at 0x234a6afdbe0>"
      ]
     },
     "metadata": {},
     "output_type": "display_data"
    }
   ],
   "source": [
    "dftradingb.plot(y='aggr_trading', kind='hist')\n",
    "plt.title('Distribution of Trading at banks with less than $1b in trading')\n",
    "plt.xlabel('Trillions of Dollars in Aggregate Trading')\n",
    "plt.ylabel('Number of Institutions');"
   ]
  }
 ],
 "metadata": {
  "kernelspec": {
   "display_name": "Python 3",
   "language": "python",
   "name": "python3"
  },
  "language_info": {
   "codemirror_mode": {
    "name": "ipython",
    "version": 3
   },
   "file_extension": ".py",
   "mimetype": "text/x-python",
   "name": "python",
   "nbconvert_exporter": "python",
   "pygments_lexer": "ipython3",
   "version": "3.6.4"
  }
 },
 "nbformat": 4,
 "nbformat_minor": 2
}
