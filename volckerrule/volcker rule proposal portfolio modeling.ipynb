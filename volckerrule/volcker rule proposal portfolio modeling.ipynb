{
 "cells": [
  {
   "cell_type": "markdown",
   "metadata": {},
   "source": [
    "## Volcker Rule 2018 Notice of Proposed Rulemaking\n",
    "\n",
    "I worked on a project (https://www.regulations.gov/document?D=OCC-2018-0010-0067) to assess reforms proposed in 2018 to the Volcker Rule. These charts look at part of the proposal, described in the quote below. Ultimately, this part was not adopted in the overall change to the final rule.\n",
    "https://www.regulations.gov/document?D=OCC-2018-0010-0155 \n",
    "\n",
    "\n",
    ">\"the proposal ... establishes a presumption of compliance for such trading desks whose absolute profits and losses over a 90-calendar day period do not exceed \\$25 million, relieving such desks of any compliance obligations under the Volcker Rule.\"\n",
    "\n",
    "Tl;dr\n",
    "\n",
    "This a questionable proposal with pro-cyclical effects on trading desk portfolio size.\n",
    "\n",
    "\n",
    "I model the asset holdings of a hypothetical trading desk under the proposal. Regulators would presume compliance for a trading desk if the desk's accumulated gross daily profits and losses for 90 days fall under $25 million. To assess the impact of this novel metric, I use historical data (from Yahoo Finance) to model the size of portfolios that would hit the limit using two very basic ETFs: large cap stocks (SPY) and investment grade bonds (AGG). \n",
    "\n",
    "I calculate daily percent change based off closing price (adjusted for dividends) and sum that on a quarterly basis.\n",
    "\n",
    "The findings show that for example holding about 45 million dollars in the vanilla investment grade bond ETF (AGG) at the start of Q4 2008 (the worst in memory) would experience 90 days of accumulated gross P&L of 25 million dollars. Whereas at the start of Q1 2013 that portfolio would have to be nearly 400 million dollars to experience that level of accumulated gross P&L. \n",
    "\n",
    "I also calculate the figures on a daily rolling basis and plot the distribution to show that the holding amount varies by an order of magnitude for each ETF. "
   ]
  },
  {
   "cell_type": "code",
   "execution_count": 88,
   "metadata": {},
   "outputs": [],
   "source": [
    "import pandas as pd\n",
    "import matplotlib.pyplot as plt\n",
    "%matplotlib inline\n",
    "\n",
    "df_spy = pd.read_csv('~/Documents/DataScience/Portfolio/spy.csv')\n",
    "df_agg = pd.read_csv('~/Documents/DataScience/Portfolio/agg.csv')\n",
    "\n",
    "df_spy.Date = pd.to_datetime(df_spy.Date)\n",
    "df_agg.Date = pd.to_datetime(df_agg.Date)"
   ]
  },
  {
   "cell_type": "code",
   "execution_count": 2,
   "metadata": {},
   "outputs": [
    {
     "data": {
      "text/html": [
       "<div>\n",
       "<style scoped>\n",
       "    .dataframe tbody tr th:only-of-type {\n",
       "        vertical-align: middle;\n",
       "    }\n",
       "\n",
       "    .dataframe tbody tr th {\n",
       "        vertical-align: top;\n",
       "    }\n",
       "\n",
       "    .dataframe thead th {\n",
       "        text-align: right;\n",
       "    }\n",
       "</style>\n",
       "<table border=\"1\" class=\"dataframe\">\n",
       "  <thead>\n",
       "    <tr style=\"text-align: right;\">\n",
       "      <th></th>\n",
       "      <th>Date</th>\n",
       "      <th>Open</th>\n",
       "      <th>High</th>\n",
       "      <th>Low</th>\n",
       "      <th>Close</th>\n",
       "      <th>Adj Close</th>\n",
       "      <th>Volume</th>\n",
       "    </tr>\n",
       "  </thead>\n",
       "  <tbody>\n",
       "    <tr>\n",
       "      <th>0</th>\n",
       "      <td>2008-01-02</td>\n",
       "      <td>146.529999</td>\n",
       "      <td>146.990005</td>\n",
       "      <td>143.880005</td>\n",
       "      <td>144.929993</td>\n",
       "      <td>113.806908</td>\n",
       "      <td>204935600</td>\n",
       "    </tr>\n",
       "    <tr>\n",
       "      <th>1</th>\n",
       "      <td>2008-01-03</td>\n",
       "      <td>144.910004</td>\n",
       "      <td>145.490005</td>\n",
       "      <td>144.070007</td>\n",
       "      <td>144.860001</td>\n",
       "      <td>113.751953</td>\n",
       "      <td>125133300</td>\n",
       "    </tr>\n",
       "    <tr>\n",
       "      <th>2</th>\n",
       "      <td>2008-01-04</td>\n",
       "      <td>143.339996</td>\n",
       "      <td>143.440002</td>\n",
       "      <td>140.910004</td>\n",
       "      <td>141.309998</td>\n",
       "      <td>110.964272</td>\n",
       "      <td>232330900</td>\n",
       "    </tr>\n",
       "    <tr>\n",
       "      <th>3</th>\n",
       "      <td>2008-01-07</td>\n",
       "      <td>141.809998</td>\n",
       "      <td>142.229996</td>\n",
       "      <td>140.100006</td>\n",
       "      <td>141.190002</td>\n",
       "      <td>110.870056</td>\n",
       "      <td>234991000</td>\n",
       "    </tr>\n",
       "    <tr>\n",
       "      <th>4</th>\n",
       "      <td>2008-01-08</td>\n",
       "      <td>142.080002</td>\n",
       "      <td>142.899994</td>\n",
       "      <td>138.440002</td>\n",
       "      <td>138.910004</td>\n",
       "      <td>109.079704</td>\n",
       "      <td>326365700</td>\n",
       "    </tr>\n",
       "  </tbody>\n",
       "</table>\n",
       "</div>"
      ],
      "text/plain": [
       "        Date        Open        High         Low       Close   Adj Close  \\\n",
       "0 2008-01-02  146.529999  146.990005  143.880005  144.929993  113.806908   \n",
       "1 2008-01-03  144.910004  145.490005  144.070007  144.860001  113.751953   \n",
       "2 2008-01-04  143.339996  143.440002  140.910004  141.309998  110.964272   \n",
       "3 2008-01-07  141.809998  142.229996  140.100006  141.190002  110.870056   \n",
       "4 2008-01-08  142.080002  142.899994  138.440002  138.910004  109.079704   \n",
       "\n",
       "      Volume  \n",
       "0  204935600  \n",
       "1  125133300  \n",
       "2  232330900  \n",
       "3  234991000  \n",
       "4  326365700  "
      ]
     },
     "execution_count": 2,
     "metadata": {},
     "output_type": "execute_result"
    }
   ],
   "source": [
    "df_spy.head()"
   ]
  },
  {
   "cell_type": "code",
   "execution_count": 3,
   "metadata": {},
   "outputs": [
    {
     "name": "stderr",
     "output_type": "stream",
     "text": [
      "/Users/henrybowens/anaconda3/lib/python3.6/site-packages/pandas/plotting/_matplotlib/converter.py:103: FutureWarning: Using an implicitly registered datetime converter for a matplotlib plotting method. The converter was registered by pandas on import. Future versions of pandas will require you to explicitly register matplotlib converters.\n",
      "\n",
      "To register the converters:\n",
      "\t>>> from pandas.plotting import register_matplotlib_converters\n",
      "\t>>> register_matplotlib_converters()\n",
      "  warnings.warn(msg, FutureWarning)\n"
     ]
    },
    {
     "data": {
      "image/png": "[encoded data removed]",
      "text/plain": [
       "<Figure size 1008x288 with 2 Axes>"
      ]
     },
     "metadata": {
      "needs_background": "light"
     },
     "output_type": "display_data"
    }
   ],
   "source": [
    "fig = plt.figure(figsize=(14,4))\n",
    "\n",
    "x = df_spy['Date']\n",
    "y1 = df_spy['Adj Close']\n",
    "y2 = df_agg['Adj Close']\n",
    "\n",
    "plt.subplot(1, 2, 1)\n",
    "plt.plot(x, y1)\n",
    "plt.xlabel('Year')\n",
    "plt.ylabel('Price per share $')\n",
    "plt.legend(['SPY'])\n",
    "\n",
    "plt.subplot(1, 2, 2)\n",
    "plt.plot(x, y2)\n",
    "plt.xlabel('Year')\n",
    "plt.ylabel('Price per share $')\n",
    "plt.legend(['AGG'])\n",
    "plt.suptitle('Share price performance of SPY and AGG ETFs');"
   ]
  },
  {
   "cell_type": "code",
   "execution_count": 4,
   "metadata": {},
   "outputs": [],
   "source": [
    "# using pandas pct_change\n",
    "\n",
    "df_spy['spy_delta'] = df_spy['Adj Close'].pct_change().abs()\n",
    "df_spy['agg_delta'] = df_agg['Adj Close'].pct_change().abs()"
   ]
  },
  {
   "cell_type": "code",
   "execution_count": 5,
   "metadata": {},
   "outputs": [],
   "source": [
    "# pick date and delta cols. set date to date time\n",
    "df1 = df_spy.loc[:, ['Date', 'spy_delta', 'agg_delta']]\n",
    "df1.Date = pd.to_datetime(df1.Date)\n",
    "#df1.set_index('Date', inplace=True)   do this later"
   ]
  },
  {
   "cell_type": "code",
   "execution_count": 6,
   "metadata": {},
   "outputs": [
    {
     "data": {
      "text/html": [
       "<div>\n",
       "<style scoped>\n",
       "    .dataframe tbody tr th:only-of-type {\n",
       "        vertical-align: middle;\n",
       "    }\n",
       "\n",
       "    .dataframe tbody tr th {\n",
       "        vertical-align: top;\n",
       "    }\n",
       "\n",
       "    .dataframe thead th {\n",
       "        text-align: right;\n",
       "    }\n",
       "</style>\n",
       "<table border=\"1\" class=\"dataframe\">\n",
       "  <thead>\n",
       "    <tr style=\"text-align: right;\">\n",
       "      <th></th>\n",
       "      <th>Date</th>\n",
       "      <th>spy_delta</th>\n",
       "      <th>agg_delta</th>\n",
       "    </tr>\n",
       "  </thead>\n",
       "  <tbody>\n",
       "    <tr>\n",
       "      <th>0</th>\n",
       "      <td>2008-01-02</td>\n",
       "      <td>NaN</td>\n",
       "      <td>NaN</td>\n",
       "    </tr>\n",
       "    <tr>\n",
       "      <th>1</th>\n",
       "      <td>2008-01-03</td>\n",
       "      <td>0.000483</td>\n",
       "      <td>0.002656</td>\n",
       "    </tr>\n",
       "    <tr>\n",
       "      <th>2</th>\n",
       "      <td>2008-01-04</td>\n",
       "      <td>0.024507</td>\n",
       "      <td>0.002061</td>\n",
       "    </tr>\n",
       "    <tr>\n",
       "      <th>3</th>\n",
       "      <td>2008-01-07</td>\n",
       "      <td>0.000849</td>\n",
       "      <td>0.001273</td>\n",
       "    </tr>\n",
       "    <tr>\n",
       "      <th>4</th>\n",
       "      <td>2008-01-08</td>\n",
       "      <td>0.016148</td>\n",
       "      <td>0.002542</td>\n",
       "    </tr>\n",
       "  </tbody>\n",
       "</table>\n",
       "</div>"
      ],
      "text/plain": [
       "        Date  spy_delta  agg_delta\n",
       "0 2008-01-02        NaN        NaN\n",
       "1 2008-01-03   0.000483   0.002656\n",
       "2 2008-01-04   0.024507   0.002061\n",
       "3 2008-01-07   0.000849   0.001273\n",
       "4 2008-01-08   0.016148   0.002542"
      ]
     },
     "execution_count": 6,
     "metadata": {},
     "output_type": "execute_result"
    }
   ],
   "source": [
    "df1.head()"
   ]
  },
  {
   "cell_type": "code",
   "execution_count": 7,
   "metadata": {},
   "outputs": [
    {
     "data": {
      "text/plain": [
       "spy_delta    22.551229\n",
       "agg_delta     5.545639\n",
       "dtype: float64"
      ]
     },
     "execution_count": 7,
     "metadata": {},
     "output_type": "execute_result"
    }
   ],
   "source": [
    "df1[df1.Date > '2008-04-01'].sum()"
   ]
  },
  {
   "cell_type": "code",
   "execution_count": 8,
   "metadata": {},
   "outputs": [],
   "source": [
    "#resample to quarterly\n",
    "df1.set_index('Date', inplace=True)\n",
    "dfq = df1.resample('QS').sum()"
   ]
  },
  {
   "cell_type": "code",
   "execution_count": 9,
   "metadata": {},
   "outputs": [],
   "source": [
    "# using 25 instead of 25million sets the portfolio columns to millions... obviously\n",
    "dfq['spy_portfolio'] = 25 / (dfq.spy_delta)\n",
    "\n",
    "dfq['agg_portfolio'] = 25 / (dfq.agg_delta)"
   ]
  },
  {
   "cell_type": "code",
   "execution_count": 10,
   "metadata": {},
   "outputs": [
    {
     "data": {
      "text/html": [
       "<div>\n",
       "<style scoped>\n",
       "    .dataframe tbody tr th:only-of-type {\n",
       "        vertical-align: middle;\n",
       "    }\n",
       "\n",
       "    .dataframe tbody tr th {\n",
       "        vertical-align: top;\n",
       "    }\n",
       "\n",
       "    .dataframe thead th {\n",
       "        text-align: right;\n",
       "    }\n",
       "</style>\n",
       "<table border=\"1\" class=\"dataframe\">\n",
       "  <thead>\n",
       "    <tr style=\"text-align: right;\">\n",
       "      <th></th>\n",
       "      <th>spy_delta</th>\n",
       "      <th>agg_delta</th>\n",
       "      <th>spy_portfolio</th>\n",
       "      <th>agg_portfolio</th>\n",
       "    </tr>\n",
       "    <tr>\n",
       "      <th>Date</th>\n",
       "      <th></th>\n",
       "      <th></th>\n",
       "      <th></th>\n",
       "      <th></th>\n",
       "    </tr>\n",
       "  </thead>\n",
       "  <tbody>\n",
       "    <tr>\n",
       "      <th>2008-01-01</th>\n",
       "      <td>0.693769</td>\n",
       "      <td>0.197044</td>\n",
       "      <td>36.035065</td>\n",
       "      <td>126.875294</td>\n",
       "    </tr>\n",
       "    <tr>\n",
       "      <th>2008-04-01</th>\n",
       "      <td>0.474352</td>\n",
       "      <td>0.180309</td>\n",
       "      <td>52.703506</td>\n",
       "      <td>138.651041</td>\n",
       "    </tr>\n",
       "    <tr>\n",
       "      <th>2008-07-01</th>\n",
       "      <td>0.950384</td>\n",
       "      <td>0.203177</td>\n",
       "      <td>26.305163</td>\n",
       "      <td>123.045190</td>\n",
       "    </tr>\n",
       "    <tr>\n",
       "      <th>2008-10-01</th>\n",
       "      <td>2.166254</td>\n",
       "      <td>0.553213</td>\n",
       "      <td>11.540657</td>\n",
       "      <td>45.190529</td>\n",
       "    </tr>\n",
       "    <tr>\n",
       "      <th>2009-01-01</th>\n",
       "      <td>1.212047</td>\n",
       "      <td>0.233286</td>\n",
       "      <td>20.626257</td>\n",
       "      <td>107.164464</td>\n",
       "    </tr>\n",
       "  </tbody>\n",
       "</table>\n",
       "</div>"
      ],
      "text/plain": [
       "            spy_delta  agg_delta  spy_portfolio  agg_portfolio\n",
       "Date                                                          \n",
       "2008-01-01   0.693769   0.197044      36.035065     126.875294\n",
       "2008-04-01   0.474352   0.180309      52.703506     138.651041\n",
       "2008-07-01   0.950384   0.203177      26.305163     123.045190\n",
       "2008-10-01   2.166254   0.553213      11.540657      45.190529\n",
       "2009-01-01   1.212047   0.233286      20.626257     107.164464"
      ]
     },
     "execution_count": 10,
     "metadata": {},
     "output_type": "execute_result"
    }
   ],
   "source": [
    "dfq.head()"
   ]
  },
  {
   "cell_type": "code",
   "execution_count": 11,
   "metadata": {},
   "outputs": [
    {
     "data": {
      "image/png": "[encoded data removed]",
      "text/plain": [
       "<Figure size 432x288 with 1 Axes>"
      ]
     },
     "metadata": {
      "needs_background": "light"
     },
     "output_type": "display_data"
    }
   ],
   "source": [
    "x = dfq.index\n",
    "y1 = dfq.spy_portfolio\n",
    "y2 = dfq.agg_portfolio\n",
    "\n",
    "plt.plot(x, y1)\n",
    "plt.plot(x, y2)\n",
    "plt.xlabel('Year')\n",
    "plt.ylabel('$ Millions')\n",
    "plt.ylim(0, 400)\n",
    "plt.legend(['SPY', 'AGG'])\n",
    "plt.title('Max exposure to stay below $25 million \\n absolute P&L under 2018 Volcker Rule NPR');"
   ]
  },
  {
   "cell_type": "code",
   "execution_count": null,
   "metadata": {},
   "outputs": [],
   "source": []
  },
  {
   "cell_type": "markdown",
   "metadata": {},
   "source": [
    "The volatility of the proposed \"accumulated gross daily profit and loss\" varies widely even on vanilla assets like the SPY and AGG ETFs "
   ]
  },
  {
   "cell_type": "code",
   "execution_count": 12,
   "metadata": {},
   "outputs": [
    {
     "data": {
      "image/png": "[encoded data removed]",
      "text/plain": [
       "<Figure size 432x288 with 1 Axes>"
      ]
     },
     "metadata": {
      "needs_background": "light"
     },
     "output_type": "display_data"
    }
   ],
   "source": [
    "x = dfq.index[:-8]\n",
    "y1 = dfq.spy_portfolio[:-8]\n",
    "y2 = dfq.agg_portfolio[:-8]\n",
    "\n",
    "plt.plot(x, y1)\n",
    "plt.plot(x, y2)\n",
    "plt.xlabel('Year')\n",
    "plt.ylabel('$ Millions')\n",
    "plt.ylim(0, 400)\n",
    "plt.legend(['SPY', 'AGG'])\n",
    "plt.title('Max exposure to stay below $25 million \\n absolute P&L under 2018 Volcker Rule NPR \\n 2008 - 2017');"
   ]
  },
  {
   "cell_type": "code",
   "execution_count": 13,
   "metadata": {},
   "outputs": [
    {
     "data": {
      "text/html": [
       "<div>\n",
       "<style scoped>\n",
       "    .dataframe tbody tr th:only-of-type {\n",
       "        vertical-align: middle;\n",
       "    }\n",
       "\n",
       "    .dataframe tbody tr th {\n",
       "        vertical-align: top;\n",
       "    }\n",
       "\n",
       "    .dataframe thead th {\n",
       "        text-align: right;\n",
       "    }\n",
       "</style>\n",
       "<table border=\"1\" class=\"dataframe\">\n",
       "  <thead>\n",
       "    <tr style=\"text-align: right;\">\n",
       "      <th></th>\n",
       "      <th>spy_delta</th>\n",
       "      <th>agg_delta</th>\n",
       "    </tr>\n",
       "    <tr>\n",
       "      <th>Date</th>\n",
       "      <th></th>\n",
       "      <th></th>\n",
       "    </tr>\n",
       "  </thead>\n",
       "  <tbody>\n",
       "    <tr>\n",
       "      <th>2008-01-02</th>\n",
       "      <td>NaN</td>\n",
       "      <td>NaN</td>\n",
       "    </tr>\n",
       "    <tr>\n",
       "      <th>2008-01-03</th>\n",
       "      <td>0.000483</td>\n",
       "      <td>0.002656</td>\n",
       "    </tr>\n",
       "    <tr>\n",
       "      <th>2008-01-04</th>\n",
       "      <td>0.024507</td>\n",
       "      <td>0.002061</td>\n",
       "    </tr>\n",
       "    <tr>\n",
       "      <th>2008-01-07</th>\n",
       "      <td>0.000849</td>\n",
       "      <td>0.001273</td>\n",
       "    </tr>\n",
       "    <tr>\n",
       "      <th>2008-01-08</th>\n",
       "      <td>0.016148</td>\n",
       "      <td>0.002542</td>\n",
       "    </tr>\n",
       "  </tbody>\n",
       "</table>\n",
       "</div>"
      ],
      "text/plain": [
       "            spy_delta  agg_delta\n",
       "Date                            \n",
       "2008-01-02        NaN        NaN\n",
       "2008-01-03   0.000483   0.002656\n",
       "2008-01-04   0.024507   0.002061\n",
       "2008-01-07   0.000849   0.001273\n",
       "2008-01-08   0.016148   0.002542"
      ]
     },
     "execution_count": 13,
     "metadata": {},
     "output_type": "execute_result"
    }
   ],
   "source": [
    "df1.head()"
   ]
  },
  {
   "cell_type": "code",
   "execution_count": 59,
   "metadata": {},
   "outputs": [
    {
     "data": {
      "text/html": [
       "<div>\n",
       "<style scoped>\n",
       "    .dataframe tbody tr th:only-of-type {\n",
       "        vertical-align: middle;\n",
       "    }\n",
       "\n",
       "    .dataframe tbody tr th {\n",
       "        vertical-align: top;\n",
       "    }\n",
       "\n",
       "    .dataframe thead th {\n",
       "        text-align: right;\n",
       "    }\n",
       "</style>\n",
       "<table border=\"1\" class=\"dataframe\">\n",
       "  <thead>\n",
       "    <tr style=\"text-align: right;\">\n",
       "      <th></th>\n",
       "      <th>spy_delta</th>\n",
       "      <th>agg_delta</th>\n",
       "      <th>spy_portfolio</th>\n",
       "      <th>agg_portfolio</th>\n",
       "    </tr>\n",
       "    <tr>\n",
       "      <th>Date</th>\n",
       "      <th></th>\n",
       "      <th></th>\n",
       "      <th></th>\n",
       "      <th></th>\n",
       "    </tr>\n",
       "  </thead>\n",
       "  <tbody>\n",
       "    <tr>\n",
       "      <th>2008-01-02</th>\n",
       "      <td>0.693769</td>\n",
       "      <td>0.197044</td>\n",
       "      <td>2619.613538</td>\n",
       "      <td>7817.398864</td>\n",
       "    </tr>\n",
       "    <tr>\n",
       "      <th>2008-01-03</th>\n",
       "      <td>0.728928</td>\n",
       "      <td>0.203841</td>\n",
       "      <td>2638.978151</td>\n",
       "      <td>7829.331250</td>\n",
       "    </tr>\n",
       "    <tr>\n",
       "      <th>2008-01-04</th>\n",
       "      <td>0.729104</td>\n",
       "      <td>0.201678</td>\n",
       "      <td>2658.001839</td>\n",
       "      <td>7846.375991</td>\n",
       "    </tr>\n",
       "    <tr>\n",
       "      <th>2008-01-07</th>\n",
       "      <td>0.707085</td>\n",
       "      <td>0.202766</td>\n",
       "      <td>2676.420125</td>\n",
       "      <td>7860.258756</td>\n",
       "    </tr>\n",
       "    <tr>\n",
       "      <th>2008-01-08</th>\n",
       "      <td>0.708180</td>\n",
       "      <td>0.207867</td>\n",
       "      <td>2733.342791</td>\n",
       "      <td>8004.340954</td>\n",
       "    </tr>\n",
       "  </tbody>\n",
       "</table>\n",
       "</div>"
      ],
      "text/plain": [
       "            spy_delta  agg_delta  spy_portfolio  agg_portfolio\n",
       "Date                                                          \n",
       "2008-01-02   0.693769   0.197044    2619.613538    7817.398864\n",
       "2008-01-03   0.728928   0.203841    2638.978151    7829.331250\n",
       "2008-01-04   0.729104   0.201678    2658.001839    7846.375991\n",
       "2008-01-07   0.707085   0.202766    2676.420125    7860.258756\n",
       "2008-01-08   0.708180   0.207867    2733.342791    8004.340954"
      ]
     },
     "execution_count": 59,
     "metadata": {},
     "output_type": "execute_result"
    }
   ],
   "source": [
    "df1.rolling('90d', min_periods=60).sum().shift(-60).head()"
   ]
  },
  {
   "cell_type": "code",
   "execution_count": 41,
   "metadata": {},
   "outputs": [
    {
     "data": {
      "text/plain": [
       "spy_delta    0.693769\n",
       "agg_delta    0.197044\n",
       "dtype: float64"
      ]
     },
     "execution_count": 41,
     "metadata": {},
     "output_type": "execute_result"
    }
   ],
   "source": [
    "df1[df1.index < '2008-04-01'].sum()"
   ]
  },
  {
   "cell_type": "code",
   "execution_count": 52,
   "metadata": {},
   "outputs": [],
   "source": [
    "# how to get this on a rolling basis? the portfolio columns need to be the rolling sum of t through t+90\n",
    "\n",
    "# answer: the rolling function uses the right most point, ie is backward looking. this probably isnt a problem, but here i \n",
    "# used shift to push it back 60 days, and 60 days min periods (calendar quarters have an average of 62 or 63 days \n",
    "# in recent years according to wikipedia).\n",
    "\n",
    "\n",
    "df1['spy_portfolio'] = 25 / (df1.spy_delta.rolling('90d', min_periods=60).sum().shift(-60))\n",
    "\n",
    "df1['agg_portfolio'] = 25 / (df1.agg_delta.rolling('90d', min_periods=60).sum().shift(-60))"
   ]
  },
  {
   "cell_type": "code",
   "execution_count": 53,
   "metadata": {},
   "outputs": [
    {
     "data": {
      "text/html": [
       "<div>\n",
       "<style scoped>\n",
       "    .dataframe tbody tr th:only-of-type {\n",
       "        vertical-align: middle;\n",
       "    }\n",
       "\n",
       "    .dataframe tbody tr th {\n",
       "        vertical-align: top;\n",
       "    }\n",
       "\n",
       "    .dataframe thead th {\n",
       "        text-align: right;\n",
       "    }\n",
       "</style>\n",
       "<table border=\"1\" class=\"dataframe\">\n",
       "  <thead>\n",
       "    <tr style=\"text-align: right;\">\n",
       "      <th></th>\n",
       "      <th>spy_delta</th>\n",
       "      <th>agg_delta</th>\n",
       "      <th>spy_portfolio</th>\n",
       "      <th>agg_portfolio</th>\n",
       "    </tr>\n",
       "    <tr>\n",
       "      <th>Date</th>\n",
       "      <th></th>\n",
       "      <th></th>\n",
       "      <th></th>\n",
       "      <th></th>\n",
       "    </tr>\n",
       "  </thead>\n",
       "  <tbody>\n",
       "    <tr>\n",
       "      <th>2008-01-02</th>\n",
       "      <td>NaN</td>\n",
       "      <td>NaN</td>\n",
       "      <td>36.035065</td>\n",
       "      <td>126.875294</td>\n",
       "    </tr>\n",
       "    <tr>\n",
       "      <th>2008-01-03</th>\n",
       "      <td>0.000483</td>\n",
       "      <td>0.002656</td>\n",
       "      <td>34.296936</td>\n",
       "      <td>122.644857</td>\n",
       "    </tr>\n",
       "    <tr>\n",
       "      <th>2008-01-04</th>\n",
       "      <td>0.024507</td>\n",
       "      <td>0.002061</td>\n",
       "      <td>34.288658</td>\n",
       "      <td>123.960193</td>\n",
       "    </tr>\n",
       "    <tr>\n",
       "      <th>2008-01-07</th>\n",
       "      <td>0.000849</td>\n",
       "      <td>0.001273</td>\n",
       "      <td>35.356429</td>\n",
       "      <td>123.295106</td>\n",
       "    </tr>\n",
       "    <tr>\n",
       "      <th>2008-01-08</th>\n",
       "      <td>0.016148</td>\n",
       "      <td>0.002542</td>\n",
       "      <td>35.301758</td>\n",
       "      <td>120.269210</td>\n",
       "    </tr>\n",
       "  </tbody>\n",
       "</table>\n",
       "</div>"
      ],
      "text/plain": [
       "            spy_delta  agg_delta  spy_portfolio  agg_portfolio\n",
       "Date                                                          \n",
       "2008-01-02        NaN        NaN      36.035065     126.875294\n",
       "2008-01-03   0.000483   0.002656      34.296936     122.644857\n",
       "2008-01-04   0.024507   0.002061      34.288658     123.960193\n",
       "2008-01-07   0.000849   0.001273      35.356429     123.295106\n",
       "2008-01-08   0.016148   0.002542      35.301758     120.269210"
      ]
     },
     "execution_count": 53,
     "metadata": {},
     "output_type": "execute_result"
    }
   ],
   "source": [
    "df1.head()"
   ]
  },
  {
   "cell_type": "code",
   "execution_count": 87,
   "metadata": {},
   "outputs": [
    {
     "data": {
      "image/png": "[encoded data removed]",
      "text/plain": [
       "<Figure size 720x288 with 2 Axes>"
      ]
     },
     "metadata": {
      "needs_background": "light"
     },
     "output_type": "display_data"
    }
   ],
   "source": [
    "x1 = df1.spy_portfolio\n",
    "x2 = df1.agg_portfolio\n",
    "f, (ax1, ax2) = plt.subplots(1, 2, sharey=True, figsize=(10,4))\n",
    "ax1.set_title('SPY (red line is avg)')\n",
    "ax1.hist(x1, bins=25)\n",
    "ax1.axvline(x1.mean(), color='red')\n",
    "\n",
    "ax2.hist(x2, bins=25)\n",
    "ax2.axvline(x2.mean(), color='red')\n",
    "ax2.set_title('AGG (red line is avg)')\n",
    "plt.suptitle('Distribution of \"Maximum Exposure\" on rolling 90-day historical data');"
   ]
  },
  {
   "cell_type": "markdown",
   "metadata": {},
   "source": [
    "These charts show the distribution of the maximum exposure calculated every day on a forward looking 90-day basis from 2008 to mid 2019. The line charts above do so for the beginning of each quarter. These give a fuller picture of how broadly distributed the maximum exposure would be in the time period used. "
   ]
  }
 ],
 "metadata": {
  "kernelspec": {
   "display_name": "Python 3",
   "language": "python",
   "name": "python3"
  },
  "language_info": {
   "codemirror_mode": {
    "name": "ipython",
    "version": 3
   },
   "file_extension": ".py",
   "mimetype": "text/x-python",
   "name": "python",
   "nbconvert_exporter": "python",
   "pygments_lexer": "ipython3",
   "version": "3.6.9"
  }
 },
 "nbformat": 4,
 "nbformat_minor": 2
}
